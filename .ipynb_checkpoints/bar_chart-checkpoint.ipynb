{
 "cells": [
  {
   "cell_type": "markdown",
   "metadata": {},
   "source": [
    "# Salary Range For Employees"
   ]
  },
  {
   "cell_type": "markdown",
   "metadata": {},
   "source": [
    "## Postgres Database Conection"
   ]
  },
  {
   "cell_type": "markdown",
   "metadata": {},
   "source": [
    "### Function to Connect the Postgres Database"
   ]
  },
  {
   "cell_type": "code",
   "execution_count": 69,
   "metadata": {},
   "outputs": [],
   "source": [
    "import pandas as pd\n",
    "from sqlalchemy import create_engine\n",
    "from config import (ServerName, UserName, Password, port)\n",
    "import psycopg2\n",
    "\n",
    "\n",
    "def getData(DataBase, sql):\n",
    "    engine = create_engine(f'postgres+psycopg2://{UserName}:{Password}@{ServerName}:{port}/{DataBase}')\n",
    "    df_query = pd.read_sql(sql, engine)\n",
    "    return df_query"
   ]
  },
  {
   "cell_type": "markdown",
   "metadata": {},
   "source": [
    "### Query of the Database using the Function"
   ]
  },
  {
   "cell_type": "code",
   "execution_count": 70,
   "metadata": {},
   "outputs": [
    {
     "data": {
      "text/html": [
       "<div>\n",
       "<style scoped>\n",
       "    .dataframe tbody tr th:only-of-type {\n",
       "        vertical-align: middle;\n",
       "    }\n",
       "\n",
       "    .dataframe tbody tr th {\n",
       "        vertical-align: top;\n",
       "    }\n",
       "\n",
       "    .dataframe thead th {\n",
       "        text-align: right;\n",
       "    }\n",
       "</style>\n",
       "<table border=\"1\" class=\"dataframe\">\n",
       "  <thead>\n",
       "    <tr style=\"text-align: right;\">\n",
       "      <th></th>\n",
       "      <th>emp_no</th>\n",
       "      <th>salary</th>\n",
       "      <th>from_date</th>\n",
       "      <th>to_date</th>\n",
       "    </tr>\n",
       "  </thead>\n",
       "  <tbody>\n",
       "    <tr>\n",
       "      <td>0</td>\n",
       "      <td>10001</td>\n",
       "      <td>60117</td>\n",
       "      <td>1986-06-26</td>\n",
       "      <td>1987-06-26</td>\n",
       "    </tr>\n",
       "    <tr>\n",
       "      <td>1</td>\n",
       "      <td>10002</td>\n",
       "      <td>65828</td>\n",
       "      <td>1996-08-03</td>\n",
       "      <td>1997-08-03</td>\n",
       "    </tr>\n",
       "    <tr>\n",
       "      <td>2</td>\n",
       "      <td>10003</td>\n",
       "      <td>40006</td>\n",
       "      <td>1995-12-03</td>\n",
       "      <td>1996-12-02</td>\n",
       "    </tr>\n",
       "    <tr>\n",
       "      <td>3</td>\n",
       "      <td>10004</td>\n",
       "      <td>40054</td>\n",
       "      <td>1986-12-01</td>\n",
       "      <td>1987-12-01</td>\n",
       "    </tr>\n",
       "    <tr>\n",
       "      <td>4</td>\n",
       "      <td>10005</td>\n",
       "      <td>78228</td>\n",
       "      <td>1989-09-12</td>\n",
       "      <td>1990-09-12</td>\n",
       "    </tr>\n",
       "  </tbody>\n",
       "</table>\n",
       "</div>"
      ],
      "text/plain": [
       "   emp_no  salary   from_date     to_date\n",
       "0   10001   60117  1986-06-26  1987-06-26\n",
       "1   10002   65828  1996-08-03  1997-08-03\n",
       "2   10003   40006  1995-12-03  1996-12-02\n",
       "3   10004   40054  1986-12-01  1987-12-01\n",
       "4   10005   78228  1989-09-12  1990-09-12"
      ]
     },
     "execution_count": 70,
     "metadata": {},
     "output_type": "execute_result"
    }
   ],
   "source": [
    "# Define the query\n",
    "sql = \"select * from salaries\"\n",
    "\n",
    "# Store the query in a dataframe Table = \"Employee\"\n",
    "salaries_df = getData(\"Employee\", sql)\n",
    "\n",
    "# Print Dataframe\n",
    "salaries_df.head()"
   ]
  },
  {
   "cell_type": "markdown",
   "metadata": {},
   "source": [
    "## Barchart "
   ]
  },
  {
   "cell_type": "markdown",
   "metadata": {},
   "source": [
    "### Bin Creation for Salaries"
   ]
  },
  {
   "cell_type": "code",
   "execution_count": 71,
   "metadata": {},
   "outputs": [],
   "source": [
    "bins = [0, 49999, 59999, 69999, 79000, 89999,\n",
    "        99999, 109999, 119999, 129999]\n",
    "\n",
    "# Create labels for these bins\n",
    "group_labels = [\"0 to 49k\", \"50k to 59k\", \"60k to 69k\", \"70k to 79k\", \"80k to 89k\", \"90k to 99k\",\n",
    "                \"100k to 109k\", \"110k to 119k\", \"120k to 129k\"]"
   ]
  },
  {
   "cell_type": "code",
   "execution_count": 72,
   "metadata": {},
   "outputs": [
    {
     "data": {
      "text/html": [
       "<div>\n",
       "<style scoped>\n",
       "    .dataframe tbody tr th:only-of-type {\n",
       "        vertical-align: middle;\n",
       "    }\n",
       "\n",
       "    .dataframe tbody tr th {\n",
       "        vertical-align: top;\n",
       "    }\n",
       "\n",
       "    .dataframe thead th {\n",
       "        text-align: right;\n",
       "    }\n",
       "</style>\n",
       "<table border=\"1\" class=\"dataframe\">\n",
       "  <thead>\n",
       "    <tr style=\"text-align: right;\">\n",
       "      <th></th>\n",
       "      <th>emp_no</th>\n",
       "      <th>salary</th>\n",
       "      <th>from_date</th>\n",
       "      <th>to_date</th>\n",
       "      <th>Salary Range</th>\n",
       "    </tr>\n",
       "  </thead>\n",
       "  <tbody>\n",
       "    <tr>\n",
       "      <td>0</td>\n",
       "      <td>10001</td>\n",
       "      <td>60117</td>\n",
       "      <td>1986-06-26</td>\n",
       "      <td>1987-06-26</td>\n",
       "      <td>60k to 69k</td>\n",
       "    </tr>\n",
       "    <tr>\n",
       "      <td>1</td>\n",
       "      <td>10002</td>\n",
       "      <td>65828</td>\n",
       "      <td>1996-08-03</td>\n",
       "      <td>1997-08-03</td>\n",
       "      <td>60k to 69k</td>\n",
       "    </tr>\n",
       "    <tr>\n",
       "      <td>2</td>\n",
       "      <td>10003</td>\n",
       "      <td>40006</td>\n",
       "      <td>1995-12-03</td>\n",
       "      <td>1996-12-02</td>\n",
       "      <td>0 to 49k</td>\n",
       "    </tr>\n",
       "    <tr>\n",
       "      <td>3</td>\n",
       "      <td>10004</td>\n",
       "      <td>40054</td>\n",
       "      <td>1986-12-01</td>\n",
       "      <td>1987-12-01</td>\n",
       "      <td>0 to 49k</td>\n",
       "    </tr>\n",
       "    <tr>\n",
       "      <td>4</td>\n",
       "      <td>10005</td>\n",
       "      <td>78228</td>\n",
       "      <td>1989-09-12</td>\n",
       "      <td>1990-09-12</td>\n",
       "      <td>70k to 79k</td>\n",
       "    </tr>\n",
       "  </tbody>\n",
       "</table>\n",
       "</div>"
      ],
      "text/plain": [
       "   emp_no  salary   from_date     to_date Salary Range\n",
       "0   10001   60117  1986-06-26  1987-06-26   60k to 69k\n",
       "1   10002   65828  1996-08-03  1997-08-03   60k to 69k\n",
       "2   10003   40006  1995-12-03  1996-12-02     0 to 49k\n",
       "3   10004   40054  1986-12-01  1987-12-01     0 to 49k\n",
       "4   10005   78228  1989-09-12  1990-09-12   70k to 79k"
      ]
     },
     "execution_count": 72,
     "metadata": {},
     "output_type": "execute_result"
    }
   ],
   "source": [
    "# Creating a new column with the salary ranges\n",
    "salaries_df[\"Salary Range\"] = pd.cut(salaries_df[\"salary\"], bins, labels=group_labels)\n",
    "# Print it\n",
    "salaries_df.head()"
   ]
  },
  {
   "cell_type": "code",
   "execution_count": 73,
   "metadata": {},
   "outputs": [
    {
     "data": {
      "text/html": [
       "<div>\n",
       "<style scoped>\n",
       "    .dataframe tbody tr th:only-of-type {\n",
       "        vertical-align: middle;\n",
       "    }\n",
       "\n",
       "    .dataframe tbody tr th {\n",
       "        vertical-align: top;\n",
       "    }\n",
       "\n",
       "    .dataframe thead th {\n",
       "        text-align: right;\n",
       "    }\n",
       "</style>\n",
       "<table border=\"1\" class=\"dataframe\">\n",
       "  <thead>\n",
       "    <tr style=\"text-align: right;\">\n",
       "      <th></th>\n",
       "      <th>No. of Employees</th>\n",
       "    </tr>\n",
       "    <tr>\n",
       "      <th>Salary Range</th>\n",
       "      <th></th>\n",
       "    </tr>\n",
       "  </thead>\n",
       "  <tbody>\n",
       "    <tr>\n",
       "      <td>0 to 49k</td>\n",
       "      <td>158465</td>\n",
       "    </tr>\n",
       "    <tr>\n",
       "      <td>50k to 59k</td>\n",
       "      <td>57915</td>\n",
       "    </tr>\n",
       "    <tr>\n",
       "      <td>60k to 69k</td>\n",
       "      <td>41413</td>\n",
       "    </tr>\n",
       "    <tr>\n",
       "      <td>70k to 79k</td>\n",
       "      <td>23064</td>\n",
       "    </tr>\n",
       "    <tr>\n",
       "      <td>80k to 89k</td>\n",
       "      <td>13595</td>\n",
       "    </tr>\n",
       "    <tr>\n",
       "      <td>90k to 99k</td>\n",
       "      <td>4284</td>\n",
       "    </tr>\n",
       "    <tr>\n",
       "      <td>100k to 109k</td>\n",
       "      <td>1069</td>\n",
       "    </tr>\n",
       "    <tr>\n",
       "      <td>110k to 119k</td>\n",
       "      <td>195</td>\n",
       "    </tr>\n",
       "    <tr>\n",
       "      <td>120k to 129k</td>\n",
       "      <td>24</td>\n",
       "    </tr>\n",
       "  </tbody>\n",
       "</table>\n",
       "</div>"
      ],
      "text/plain": [
       "              No. of Employees\n",
       "Salary Range                  \n",
       "0 to 49k                158465\n",
       "50k to 59k               57915\n",
       "60k to 69k               41413\n",
       "70k to 79k               23064\n",
       "80k to 89k               13595\n",
       "90k to 99k                4284\n",
       "100k to 109k              1069\n",
       "110k to 119k               195\n",
       "120k to 129k                24"
      ]
     },
     "execution_count": 73,
     "metadata": {},
     "output_type": "execute_result"
    }
   ],
   "source": [
    "# Group the Dataframe by Salary Range and Count\n",
    "salaries_group_df = salaries_df.groupby(\"Salary Range\")\n",
    "# Count the number of employees\n",
    "salaries_barchart_df = salaries_group_df[[\"emp_no\"]].count()\n",
    "# Rename the column to one more signifying\n",
    "salaries_barchart_df = salaries_barchart_df.rename(columns={\"emp_no\" : \"No. of Employees\"})\n",
    "salaries_barchart_df\n"
   ]
  },
  {
   "cell_type": "markdown",
   "metadata": {},
   "source": [
    "## Barchart"
   ]
  },
  {
   "cell_type": "code",
   "execution_count": 74,
   "metadata": {},
   "outputs": [
    {
     "data": {
      "image/png": "[encoded data removed]",
      "text/plain": [
       "<Figure size 720x576 with 1 Axes>"
      ]
     },
     "metadata": {
      "needs_background": "light"
     },
     "output_type": "display_data"
    }
   ],
   "source": [
    "# Define libraries to plot\n",
    "import matplotlib.pyplot as plt\n",
    "import numpy as np\n",
    "from matplotlib.ticker import FuncFormatter\n",
    "\n",
    "# Define values in axes from previous data frames\n",
    "range_Salary = group_labels\n",
    "no_employees = salaries_barchart_df[\"No. of Employees\"]\n",
    "\n",
    "# Define Values in axes\n",
    "x_axis = np.arange(len(range_Salary))\n",
    "\n",
    "# Plot the chart with size\n",
    "plt.figure(figsize=(10,8))\n",
    "rects = plt.bar(x_axis, no_employees, color='green', alpha=0.75, align=\"center\");\n",
    "\n",
    "# Define locations for x axis and y axis\n",
    "xtick_locations = [value for value in x_axis];\n",
    "\n",
    "# Define locations and values for y axis\n",
    "ytick_increment = 20e3\n",
    "ytick_splits = 10\n",
    "y_axis = range(1,10)\n",
    "ytick_locations = [value*ytick_increment for value in y_axis];\n",
    "ytick_values = ['{:,.0f}K'.format(value/1e3) for value in ytick_locations]\n",
    "\n",
    "# Define the reference font size\n",
    "ref_font_size = 12\n",
    "\n",
    "# Add labels and Title\n",
    "plt.xlabel('Sarlary Range',fontweight=\"bold\", fontsize=ref_font_size+2)\n",
    "plt.ylabel('No. of Employees',fontweight=\"bold\", fontsize=ref_font_size+2)\n",
    "plt.title('No. of Employees \\n By Salary',fontweight=\"bold\", fontsize=ref_font_size+3)\n",
    "\n",
    "# Add x and y axis values\n",
    "plt.xticks(xtick_locations, group_labels, rotation=45, \n",
    "           fontweight=\"bold\", alpha=0.55, fontsize=ref_font_size)\n",
    "plt.yticks(ytick_locations, ytick_values, rotation=0, \n",
    "           fontweight=\"bold\", alpha=0.55, fontsize=ref_font_size)\n",
    "\n",
    "# Add Grids\n",
    "plt.grid(b=None, which='major', axis='y', color='grey',  alpha=0.55)\n",
    "\n",
    "# Establish the upper limit of the plot\n",
    "plt.ylim([0, round(max(no_employees),-3)+2e4])\n",
    "\n",
    "# Function to  Autolabel columns in thousands\n",
    "def autolabel(rects):\n",
    "    \"\"\"Attach a text label above each bar in *rects*, displaying its height.\"\"\"\n",
    "    for rect in rects:\n",
    "        height = rect.get_height()\n",
    "        plt.annotate('{:,.1f}K'.format(height/1e3),\n",
    "                    xy=(rect.get_x() + rect.get_width() / 2, height),\n",
    "                    xytext=(0, 3),  # 3 points vertical offset\n",
    "                    textcoords=\"offset points\",\n",
    "                    ha='center', va='bottom', rotation=0,\n",
    "                    fontweight=\"bold\", alpha=0.55, fontsize=ref_font_size+2)\n",
    "\n",
    "# Run the plot to autolabel\n",
    "autolabel(rects);\n",
    "\n",
    "# Autofit\n",
    "plt.tight_layout()\n",
    "       \n",
    "# Save Plot\n",
    "plt.savefig(\"Fig 1. No. of Employees By Salary\" +'.png',bbox_inches='tight');\n",
    "\n",
    "# Show Plot\n",
    "plt.show()"
   ]
  }
 ],
 "metadata": {
  "file_extension": ".py",
  "kernelspec": {
   "display_name": "Python 3",
   "language": "python",
   "name": "python3"
  },
  "language_info": {
   "codemirror_mode": {
    "name": "ipython",
    "version": 3
   },
   "file_extension": ".py",
   "mimetype": "text/x-python",
   "name": "python",
   "nbconvert_exporter": "python",
   "pygments_lexer": "ipython3",
   "version": "3.7.4"
  },
  "mimetype": "text/x-python",
  "name": "python",
  "npconvert_exporter": "python",
  "pygments_lexer": "ipython3",
  "version": 3
 },
 "nbformat": 4,
 "nbformat_minor": 2
}
